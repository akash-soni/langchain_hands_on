{
 "cells": [
  {
   "cell_type": "code",
   "execution_count": 3,
   "metadata": {},
   "outputs": [
    {
     "data": {
      "text/plain": [
       "'I want you to act  as a acting financial advisor for people.\\nIn an easu way, explain the baics of income_tax'"
      ]
     },
     "execution_count": 3,
     "metadata": {},
     "output_type": "execute_result"
    }
   ],
   "source": [
    "from langchain import PromptTemplate\n",
    "\n",
    "demo_template = \"\"\"I want you to act  as a acting financial advisor for people.\n",
    "In an easy way, explain the baics of {financial_concept}\"\"\"\n",
    "\n",
    "prompt = PromptTemplate(input_variables=['financial_concept'],\n",
    "                        template=demo_template)\n",
    "\n",
    "prompt.format(financial_concept='income_tax')"
   ]
  },
  {
   "cell_type": "code",
   "execution_count": 4,
   "metadata": {},
   "outputs": [],
   "source": [
    "from langchain.llms import OpenAI\n",
    "from langchain.chains import LLMChain\n",
    "\n",
    "llm = OpenAI(temperature=0.8)\n",
    "chain1 = LLMChain(llm=llm, prompt=prompt)"
   ]
  },
  {
   "cell_type": "code",
   "execution_count": 6,
   "metadata": {},
   "outputs": [
    {
     "data": {
      "text/plain": [
       "'\\n\\nIncome tax is a tax that is charged by the government on the income you earn. This includes income from wages, salaries, investments, and profits from businesses. It is charged on the amount of money you receive after deductions for things like contributions to pension plans or charity. Income tax is usually calculated as a percentage of the money you have earned, and the amount of tax you have to pay depends on the amount of income you have earned and the tax bracket you are in. To figure out how much income tax you owe, you should use an online tax calculator or speak to a tax professional.'"
      ]
     },
     "execution_count": 6,
     "metadata": {},
     "output_type": "execute_result"
    }
   ],
   "source": [
    "chain1.run(\"Income Tax\")"
   ]
  },
  {
   "cell_type": "code",
   "execution_count": 5,
   "metadata": {},
   "outputs": [
    {
     "data": {
      "text/plain": [
       "\"\\n\\nGDP stands for Gross Domestic Product. It is a measure of the total value of goods and services produced in a country in a given period of time (usually a year). It is the most commonly used measure of a country's economic progress, and can be used to compare the relative sizes and growth rates of different economies. GDP is calculated by adding up the value of all the goods and services produced in a country, including government spending and investment. GDP is a useful measure of economic activity, but it does not account for other factors such as inequality or quality of life.\""
      ]
     },
     "execution_count": 5,
     "metadata": {},
     "output_type": "execute_result"
    }
   ],
   "source": [
    "chain1.run(\"GDP\")"
   ]
  },
  {
   "attachments": {},
   "cell_type": "markdown",
   "metadata": {},
   "source": [
    "### Language Translation"
   ]
  },
  {
   "cell_type": "code",
   "execution_count": 10,
   "metadata": {},
   "outputs": [
    {
     "data": {
      "text/plain": [
       "\"In an easy way translate the following sentences 'how are you?' into hindi\""
      ]
     },
     "execution_count": 10,
     "metadata": {},
     "output_type": "execute_result"
    }
   ],
   "source": [
    "from langchain import PromptTemplate\n",
    "\n",
    "template = \"\"\"In an easy way translate the following sentences '{sentence}' into {target_sentence}\"\"\"\n",
    "\n",
    "language_prompt = PromptTemplate(input_variables=[\"sentence\", \"target_sentence\"],\n",
    "                        template = template)\n",
    "\n",
    "language_prompt.format(sentence=\"how are you?\", target_sentence='hindi')"
   ]
  },
  {
   "cell_type": "code",
   "execution_count": 13,
   "metadata": {},
   "outputs": [
    {
     "data": {
      "text/plain": [
       "{'sentence': 'Hello How are you?',\n",
       " 'target_sentence': 'Hindi',\n",
       " 'text': '\\n\\nनमस्ते आप कैसे हैं?'}"
      ]
     },
     "execution_count": 13,
     "metadata": {},
     "output_type": "execute_result"
    }
   ],
   "source": [
    "chain2 = LLMChain(llm=llm, prompt=language_prompt)\n",
    "chain2({'sentence':\"Hello How are you?\", 'target_sentence':'Hindi'})"
   ]
  },
  {
   "attachments": {},
   "cell_type": "markdown",
   "metadata": {},
   "source": []
  },
  {
   "cell_type": "code",
   "execution_count": null,
   "metadata": {},
   "outputs": [],
   "source": [
    "from langchain import PromptTemplate,  FewShotPromptTemplate\n",
    "\n",
    "# First, create the list of few shot examples.\n",
    "examples = [\n",
    "    {\"word\":\"happy\", \"anatomy\":\"sad\"},\n",
    "    {\"word\":\"tall\", \"anatomy\":\"short\"},\n",
    "]\n",
    "\n",
    "# Next, we specify the template to format the exmples we have provided.\n",
    "# We use the `PromptTemplate` class for this purpose\n",
    "\n",
    "example_formatter_template = \"\"\"Word : {word} Antonyms : {antonyms}\"\"\"\n",
    "\n",
    "example_prompt =  PromptTemplate(input_variables=[\"word\", \"antonyms\"],\n",
    "                                                  template = example_formatter_template\n",
    "                                                  )"
   ]
  },
  {
   "cell_type": "code",
   "execution_count": null,
   "metadata": {},
   "outputs": [],
   "source": []
  }
 ],
 "metadata": {
  "kernelspec": {
   "display_name": "Python 3",
   "language": "python",
   "name": "python3"
  },
  "language_info": {
   "codemirror_mode": {
    "name": "ipython",
    "version": 3
   },
   "file_extension": ".py",
   "mimetype": "text/x-python",
   "name": "python",
   "nbconvert_exporter": "python",
   "pygments_lexer": "ipython3",
   "version": "3.9.0"
  },
  "orig_nbformat": 4
 },
 "nbformat": 4,
 "nbformat_minor": 2
}
